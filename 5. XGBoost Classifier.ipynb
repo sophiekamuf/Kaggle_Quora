{
 "cells": [
  {
   "cell_type": "code",
   "execution_count": null,
   "metadata": {
    "collapsed": true
   },
   "outputs": [],
   "source": [
    "from sklearn.model_selection import train_test_split\n",
    "\n",
    "train, val = train_test_split(traindata, train_size=0.8)"
   ]
  },
  {
   "cell_type": "code",
   "execution_count": null,
   "metadata": {
    "collapsed": true
   },
   "outputs": [],
   "source": [
    "#all features\n",
    "features = ['q1_words_num','q2_words_num','q1_length','q2_length','common_words','diff_length', 'fuzz_qratio', 'fuzz_WRatio', 'fuzz_partial_ratio', 'fuzz_partial_token_set_ratio', 'fuzz_partial_token_sort_ratio', 'fuzz_token_set_ratio', 'fuzz_token_sort_ratio', 'euclidean', 'manhattan', 'minkowski', 'braycurtis', 'cosine', 'scew_q1', 'scew_q2', 'kurtosis_q1', 'kurtosis_q2', 'same_start_word', 'total_unique_words']"
   ]
  },
  {
   "cell_type": "code",
   "execution_count": null,
   "metadata": {
    "collapsed": true
   },
   "outputs": [],
   "source": [
    "train_X = train[features]\n",
    "test_X = val[features]\n",
    "train_y = train['is_duplicate']"
   ]
  },
  {
   "cell_type": "code",
   "execution_count": null,
   "metadata": {
    "collapsed": true
   },
   "outputs": [],
   "source": [
    "#Using optimal parameters based on parameter tuning (separate file)\n",
    "gbm = xgb.XGBClassifier(max_depth=20, min_child_weight=5, subsample=0.8, colsample_bytree=0.8, gamma=0, n_estimators=1000, learning_rate=0.1, objective=\"binary:logistic\", nthread=4, scale_pos_weight=1, seed=27).fit(train_X, train_y)"
   ]
  },
  {
   "cell_type": "code",
   "execution_count": null,
   "metadata": {
    "collapsed": true
   },
   "outputs": [],
   "source": [
    "#Predicting test_X duplicates and printing the accuracy, f1, recall and precision score, as well as confusion matrix\n",
    "from sklearn.metrics import accuracy_score, f1_score, precision_score, recall_score, classification_report, confusion_matrix\n",
    "predictions = gbm.predict(test_X)\n",
    "accuracy = accuracy_score(val['is_duplicate'], predictions)\n",
    "print(accuracy)\n",
    "print(f1_score(val['is_duplicate'],predictions))\n",
    "print(precision_score(val['is_duplicate'],predictions))\n",
    "print(recall_score(val['is_duplicate'],predictions))  \n",
    "print(confusion_matrix(val['is_duplicate'],predictions))  "
   ]
  },
  {
   "cell_type": "code",
   "execution_count": null,
   "metadata": {
    "collapsed": true
   },
   "outputs": [],
   "source": [
    "#Plot the features by importance\n",
    "from xgboost import plot_importance\n",
    "from matplotlib import pyplot\n",
    "fig_size[0] = 6\n",
    "fig_size[1] = 14\n",
    "plot_importance(gbm)\n",
    "pyplot.show() "
   ]
  }
 ],
 "metadata": {
  "kernelspec": {
   "display_name": "Python 3",
   "language": "python",
   "name": "python3"
  },
  "language_info": {
   "codemirror_mode": {
    "name": "ipython",
    "version": 3
   },
   "file_extension": ".py",
   "mimetype": "text/x-python",
   "name": "python",
   "nbconvert_exporter": "python",
   "pygments_lexer": "ipython3",
   "version": "3.6.3"
  }
 },
 "nbformat": 4,
 "nbformat_minor": 2
}
